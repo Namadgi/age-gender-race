{
 "cells": [
  {
   "cell_type": "code",
   "execution_count": 156,
   "metadata": {},
   "outputs": [
    {
     "name": "stdout",
     "output_type": "stream",
     "text": [
      "The autoreload extension is already loaded. To reload it, use:\n",
      "  %reload_ext autoreload\n"
     ]
    }
   ],
   "source": [
    "%load_ext autoreload\n",
    "%autoreload 2\n",
    "\n",
    "import torch\n",
    "import tensorflow as tf\n",
    "from mobnetv1 import MobileNetV1\n",
    "import numpy as np\n",
    "import cv2\n",
    "from torch import nn\n"
   ]
  },
  {
   "cell_type": "code",
   "execution_count": 2,
   "metadata": {},
   "outputs": [
    {
     "name": "stdout",
     "output_type": "stream",
     "text": [
      "WARNING:tensorflow:From C:\\Users\\user\\AppData\\Local\\Temp\\ipykernel_73092\\2429019592.py:4: The name tf.GraphDef is deprecated. Please use tf.compat.v1.GraphDef instead.\n",
      "\n"
     ]
    }
   ],
   "source": [
    "def load_graph_def(frozen_graph_filename):\n",
    "    graph_def=None\n",
    "    with tf.io.gfile.GFile(frozen_graph_filename, 'rb') as f:\n",
    "        graph_def = tf.compat.v1.GraphDef()\n",
    "        graph_def.ParseFromString(f.read())\n",
    "        tf.import_graph_def(graph_def, name='')\n",
    "\n",
    "\n",
    "model_files = {\n",
    "    'model_weights/agre.pb': 'agr'\n",
    "}\n",
    "\n",
    "load_graph_def('model_weights/agre.pb')\n",
    "\n",
    "constant_values = {}\n",
    "\n",
    "with tf.compat.v1.Session() as sess:\n",
    "    constant_ops = [op for op in sess.graph.get_operations() if op.type == \"Const\"]\n",
    "    for constant_op in constant_ops:\n",
    "        constant_values[constant_op.name] = sess.run(constant_op.outputs[0])"
   ]
  },
  {
   "cell_type": "code",
   "execution_count": 3,
   "metadata": {},
   "outputs": [],
   "source": [
    "with tf.Graph().as_default() as full_graph:\n",
    "    load_graph_def('model_weights/agre.pb')"
   ]
  },
  {
   "cell_type": "code",
   "execution_count": 4,
   "metadata": {},
   "outputs": [],
   "source": [
    "def get_image(file):\n",
    "    x = cv2.imread(file)\n",
    "    x = x.astype(float)\n",
    "    x[..., 0] -= 103.939\n",
    "    x[..., 1] -= 116.779\n",
    "    x[..., 2] -= 123.68\n",
    "    x = np.expand_dims(x, axis=0)\n",
    "    return x"
   ]
  },
  {
   "cell_type": "code",
   "execution_count": 5,
   "metadata": {},
   "outputs": [],
   "source": [
    "def get_layer(layer_name):\n",
    "    sess = tf.compat.v1.Session(graph=full_graph)\n",
    "    f_out = full_graph.get_tensor_by_name(layer_name)\n",
    "    in_img = full_graph.get_tensor_by_name('input_1:0')\n",
    "    x = get_image('data/0.jpg')\n",
    "    f = sess.run([f_out], feed_dict={in_img: x})[0]\n",
    "    sess.close()\n",
    "    return f"
   ]
  },
  {
   "cell_type": "code",
   "execution_count": 6,
   "metadata": {},
   "outputs": [],
   "source": [
    "sess = tf.compat.v1.Session(graph=full_graph)\n",
    "features_out = full_graph.get_tensor_by_name('global_pooling/Mean:0')\n",
    "age_out = full_graph.get_tensor_by_name('age_pred/Softmax:0')\n",
    "gender_out = full_graph.get_tensor_by_name('gender_pred/Sigmoid:0')\n",
    "in_img = full_graph.get_tensor_by_name('input_1:0')\n",
    "x = get_image('data/0.jpg')\n",
    "features, age, gender = sess.run([features_out, age_out, gender_out], feed_dict={in_img: x})\n",
    "sess.close()\n"
   ]
  },
  {
   "cell_type": "code",
   "execution_count": 161,
   "metadata": {},
   "outputs": [],
   "source": [
    "def get_age(age_score: np.ndarray) -> int:\n",
    "    age_score = age_score[0]\n",
    "    idx_sorted = age_score.argsort()[::-1]\n",
    "    age_score_sorted = age_score[idx_sorted]\n",
    "    return int(((idx_sorted + 0.5) * age_score_sorted).sum())"
   ]
  },
  {
   "cell_type": "code",
   "execution_count": 48,
   "metadata": {},
   "outputs": [
    {
     "data": {
      "text/plain": [
       "(3, 3, 32, 1)"
      ]
     },
     "execution_count": 48,
     "metadata": {},
     "output_type": "execute_result"
    }
   ],
   "source": [
    "constant_values['conv_dw_1/depthwise_kernel'].shape"
   ]
  },
  {
   "cell_type": "code",
   "execution_count": 47,
   "metadata": {},
   "outputs": [
    {
     "data": {
      "text/plain": [
       "torch.Size([32, 1, 3, 3])"
      ]
     },
     "execution_count": 47,
     "metadata": {},
     "output_type": "execute_result"
    }
   ],
   "source": [
    "state_dict['model.1.0.weight'].shape"
   ]
  },
  {
   "cell_type": "code",
   "execution_count": 123,
   "metadata": {},
   "outputs": [],
   "source": [
    "def load_bn(model, state_dict, sd_keys, constant_values, cv_keys):\n",
    "    torch_tf_params = {\n",
    "        'weight': 'gamma',\n",
    "        'bias': 'beta',\n",
    "        'running_mean': 'moving_mean',\n",
    "        'running_var': 'moving_variance',\n",
    "    }\n",
    "\n",
    "    for sd_k in sd_keys:\n",
    "        _, idx1, idx2, label = sd_k.split('.')\n",
    "        idx1, idx2 = int(idx1), int(idx2)\n",
    "        if type(model.model[idx1][idx2]) == nn.BatchNorm2d:\n",
    "            if label == 'num_batches_tracked':\n",
    "                continue\n",
    "            if idx1 == 0:\n",
    "                tf_label = torch_tf_params[label]\n",
    "                state_dict[sd_k] = torch.from_numpy(constant_values[f'conv1_bn/{tf_label}'])\n",
    "            elif idx2 == 2 or idx2 == 5:\n",
    "                tf_label = torch_tf_params[label]\n",
    "                conv_label = 'dw' if idx2 == 2 else 'pw'\n",
    "                state_dict[sd_k] = torch.from_numpy(constant_values[f'conv_{conv_label}_{idx1}_bn/{tf_label}'])\n",
    "            else:\n",
    "                print('Error BN')\n",
    "                break\n",
    "\n",
    "def load_conv(model, state_dict, sd_keys, constant_values, cv_keys):\n",
    "    for sd_k in sd_keys:\n",
    "        _, idx1, idx2, label = sd_k.split('.')\n",
    "        idx1, idx2 = int(idx1), int(idx2)\n",
    "        if type(model.model[idx1][idx2]) == nn.Conv2d:\n",
    "            if idx1 == 0:\n",
    "                state_dict[sd_k] = torch.from_numpy(np.transpose(\n",
    "                        constant_values['conv1/kernel'], (3, 2, 0, 1)\n",
    "                    ))\n",
    "            elif idx2 == 1 or idx2 == 4:\n",
    "                if idx2 == 1:\n",
    "                    cv_key = f'conv_dw_{idx1}/depthwise_kernel'\n",
    "                    state_dict[sd_k] = torch.from_numpy(np.transpose(\n",
    "                        constant_values[cv_key], (2, 3, 0, 1)\n",
    "                    ))\n",
    "                else:\n",
    "                    cv_key = f'conv_pw_{idx1}/kernel'\n",
    "                    state_dict[sd_k] = torch.from_numpy(np.transpose(\n",
    "                        constant_values[cv_key], (3, 2, 0, 1)\n",
    "                    ))\n",
    "\n",
    "            else:\n",
    "                print('Error CV')\n",
    "                break\n",
    "\n",
    "def load_model_backbone(model, state_dict, constant_values):\n",
    "    sd_keys = list(state_dict.keys())[:-8]\n",
    "    cv_keys = list(constant_values.keys())[:-9]\n",
    "    load_bn(model, state_dict, sd_keys, constant_values, cv_keys)\n",
    "    load_conv(model, state_dict, sd_keys, constant_values, cv_keys)"
   ]
  },
  {
   "cell_type": "code",
   "execution_count": 157,
   "metadata": {},
   "outputs": [
    {
     "data": {
      "text/plain": [
       "MobileNetV1(\n",
       "  (model): Sequential(\n",
       "    (0): Sequential(\n",
       "      (0): ZeroPad2d((0, 1, 0, 1))\n",
       "      (1): Conv2d(3, 32, kernel_size=(3, 3), stride=(2, 2), bias=False)\n",
       "      (2): BatchNorm2d(32, eps=0.001, momentum=0.01, affine=True, track_running_stats=True)\n",
       "      (3): ReLU6(inplace=True)\n",
       "    )\n",
       "    (1): Sequential(\n",
       "      (0): ZeroPad2d((1, 1, 1, 1))\n",
       "      (1): Conv2d(32, 32, kernel_size=(3, 3), stride=(1, 1), groups=32, bias=False)\n",
       "      (2): BatchNorm2d(32, eps=0.001, momentum=0.01, affine=True, track_running_stats=True)\n",
       "      (3): ReLU6(inplace=True)\n",
       "      (4): Conv2d(32, 64, kernel_size=(1, 1), stride=(1, 1), bias=False)\n",
       "      (5): BatchNorm2d(64, eps=0.001, momentum=0.01, affine=True, track_running_stats=True)\n",
       "      (6): ReLU6(inplace=True)\n",
       "    )\n",
       "    (2): Sequential(\n",
       "      (0): ZeroPad2d((0, 1, 0, 1))\n",
       "      (1): Conv2d(64, 64, kernel_size=(3, 3), stride=(2, 2), groups=64, bias=False)\n",
       "      (2): BatchNorm2d(64, eps=0.001, momentum=0.01, affine=True, track_running_stats=True)\n",
       "      (3): ReLU6(inplace=True)\n",
       "      (4): Conv2d(64, 128, kernel_size=(1, 1), stride=(1, 1), bias=False)\n",
       "      (5): BatchNorm2d(128, eps=0.001, momentum=0.01, affine=True, track_running_stats=True)\n",
       "      (6): ReLU6(inplace=True)\n",
       "    )\n",
       "    (3): Sequential(\n",
       "      (0): ZeroPad2d((1, 1, 1, 1))\n",
       "      (1): Conv2d(128, 128, kernel_size=(3, 3), stride=(1, 1), groups=128, bias=False)\n",
       "      (2): BatchNorm2d(128, eps=0.001, momentum=0.01, affine=True, track_running_stats=True)\n",
       "      (3): ReLU6(inplace=True)\n",
       "      (4): Conv2d(128, 128, kernel_size=(1, 1), stride=(1, 1), bias=False)\n",
       "      (5): BatchNorm2d(128, eps=0.001, momentum=0.01, affine=True, track_running_stats=True)\n",
       "      (6): ReLU6(inplace=True)\n",
       "    )\n",
       "    (4): Sequential(\n",
       "      (0): ZeroPad2d((0, 1, 0, 1))\n",
       "      (1): Conv2d(128, 128, kernel_size=(3, 3), stride=(2, 2), groups=128, bias=False)\n",
       "      (2): BatchNorm2d(128, eps=0.001, momentum=0.01, affine=True, track_running_stats=True)\n",
       "      (3): ReLU6(inplace=True)\n",
       "      (4): Conv2d(128, 256, kernel_size=(1, 1), stride=(1, 1), bias=False)\n",
       "      (5): BatchNorm2d(256, eps=0.001, momentum=0.01, affine=True, track_running_stats=True)\n",
       "      (6): ReLU6(inplace=True)\n",
       "    )\n",
       "    (5): Sequential(\n",
       "      (0): ZeroPad2d((1, 1, 1, 1))\n",
       "      (1): Conv2d(256, 256, kernel_size=(3, 3), stride=(1, 1), groups=256, bias=False)\n",
       "      (2): BatchNorm2d(256, eps=0.001, momentum=0.01, affine=True, track_running_stats=True)\n",
       "      (3): ReLU6(inplace=True)\n",
       "      (4): Conv2d(256, 256, kernel_size=(1, 1), stride=(1, 1), bias=False)\n",
       "      (5): BatchNorm2d(256, eps=0.001, momentum=0.01, affine=True, track_running_stats=True)\n",
       "      (6): ReLU6(inplace=True)\n",
       "    )\n",
       "    (6): Sequential(\n",
       "      (0): ZeroPad2d((0, 1, 0, 1))\n",
       "      (1): Conv2d(256, 256, kernel_size=(3, 3), stride=(2, 2), groups=256, bias=False)\n",
       "      (2): BatchNorm2d(256, eps=0.001, momentum=0.01, affine=True, track_running_stats=True)\n",
       "      (3): ReLU6(inplace=True)\n",
       "      (4): Conv2d(256, 512, kernel_size=(1, 1), stride=(1, 1), bias=False)\n",
       "      (5): BatchNorm2d(512, eps=0.001, momentum=0.01, affine=True, track_running_stats=True)\n",
       "      (6): ReLU6(inplace=True)\n",
       "    )\n",
       "    (7): Sequential(\n",
       "      (0): ZeroPad2d((1, 1, 1, 1))\n",
       "      (1): Conv2d(512, 512, kernel_size=(3, 3), stride=(1, 1), groups=512, bias=False)\n",
       "      (2): BatchNorm2d(512, eps=0.001, momentum=0.01, affine=True, track_running_stats=True)\n",
       "      (3): ReLU6(inplace=True)\n",
       "      (4): Conv2d(512, 512, kernel_size=(1, 1), stride=(1, 1), bias=False)\n",
       "      (5): BatchNorm2d(512, eps=0.001, momentum=0.01, affine=True, track_running_stats=True)\n",
       "      (6): ReLU6(inplace=True)\n",
       "    )\n",
       "    (8): Sequential(\n",
       "      (0): ZeroPad2d((1, 1, 1, 1))\n",
       "      (1): Conv2d(512, 512, kernel_size=(3, 3), stride=(1, 1), groups=512, bias=False)\n",
       "      (2): BatchNorm2d(512, eps=0.001, momentum=0.01, affine=True, track_running_stats=True)\n",
       "      (3): ReLU6(inplace=True)\n",
       "      (4): Conv2d(512, 512, kernel_size=(1, 1), stride=(1, 1), bias=False)\n",
       "      (5): BatchNorm2d(512, eps=0.001, momentum=0.01, affine=True, track_running_stats=True)\n",
       "      (6): ReLU6(inplace=True)\n",
       "    )\n",
       "    (9): Sequential(\n",
       "      (0): ZeroPad2d((1, 1, 1, 1))\n",
       "      (1): Conv2d(512, 512, kernel_size=(3, 3), stride=(1, 1), groups=512, bias=False)\n",
       "      (2): BatchNorm2d(512, eps=0.001, momentum=0.01, affine=True, track_running_stats=True)\n",
       "      (3): ReLU6(inplace=True)\n",
       "      (4): Conv2d(512, 512, kernel_size=(1, 1), stride=(1, 1), bias=False)\n",
       "      (5): BatchNorm2d(512, eps=0.001, momentum=0.01, affine=True, track_running_stats=True)\n",
       "      (6): ReLU6(inplace=True)\n",
       "    )\n",
       "    (10): Sequential(\n",
       "      (0): ZeroPad2d((1, 1, 1, 1))\n",
       "      (1): Conv2d(512, 512, kernel_size=(3, 3), stride=(1, 1), groups=512, bias=False)\n",
       "      (2): BatchNorm2d(512, eps=0.001, momentum=0.01, affine=True, track_running_stats=True)\n",
       "      (3): ReLU6(inplace=True)\n",
       "      (4): Conv2d(512, 512, kernel_size=(1, 1), stride=(1, 1), bias=False)\n",
       "      (5): BatchNorm2d(512, eps=0.001, momentum=0.01, affine=True, track_running_stats=True)\n",
       "      (6): ReLU6(inplace=True)\n",
       "    )\n",
       "    (11): Sequential(\n",
       "      (0): ZeroPad2d((1, 1, 1, 1))\n",
       "      (1): Conv2d(512, 512, kernel_size=(3, 3), stride=(1, 1), groups=512, bias=False)\n",
       "      (2): BatchNorm2d(512, eps=0.001, momentum=0.01, affine=True, track_running_stats=True)\n",
       "      (3): ReLU6(inplace=True)\n",
       "      (4): Conv2d(512, 512, kernel_size=(1, 1), stride=(1, 1), bias=False)\n",
       "      (5): BatchNorm2d(512, eps=0.001, momentum=0.01, affine=True, track_running_stats=True)\n",
       "      (6): ReLU6(inplace=True)\n",
       "    )\n",
       "    (12): Sequential(\n",
       "      (0): ZeroPad2d((0, 1, 0, 1))\n",
       "      (1): Conv2d(512, 512, kernel_size=(3, 3), stride=(2, 2), groups=512, bias=False)\n",
       "      (2): BatchNorm2d(512, eps=0.001, momentum=0.01, affine=True, track_running_stats=True)\n",
       "      (3): ReLU6(inplace=True)\n",
       "      (4): Conv2d(512, 1024, kernel_size=(1, 1), stride=(1, 1), bias=False)\n",
       "      (5): BatchNorm2d(1024, eps=0.001, momentum=0.01, affine=True, track_running_stats=True)\n",
       "      (6): ReLU6(inplace=True)\n",
       "    )\n",
       "    (13): Sequential(\n",
       "      (0): ZeroPad2d((1, 1, 1, 1))\n",
       "      (1): Conv2d(1024, 1024, kernel_size=(3, 3), stride=(1, 1), groups=1024, bias=False)\n",
       "      (2): BatchNorm2d(1024, eps=0.001, momentum=0.01, affine=True, track_running_stats=True)\n",
       "      (3): ReLU6(inplace=True)\n",
       "      (4): Conv2d(1024, 1024, kernel_size=(1, 1), stride=(1, 1), bias=False)\n",
       "      (5): BatchNorm2d(1024, eps=0.001, momentum=0.01, affine=True, track_running_stats=True)\n",
       "      (6): ReLU6(inplace=True)\n",
       "    )\n",
       "    (14): AdaptiveAvgPool2d(output_size=1)\n",
       "  )\n",
       "  (fc): Sequential(\n",
       "    (0): Dropout(p=0.5, inplace=True)\n",
       "    (1): Linear(in_features=1024, out_features=256, bias=True)\n",
       "    (2): ReLU(inplace=True)\n",
       "    (3): Dropout(p=0.2, inplace=True)\n",
       "  )\n",
       "  (age): Sequential(\n",
       "    (0): Linear(in_features=256, out_features=100, bias=True)\n",
       "    (1): Softmax(dim=1)\n",
       "  )\n",
       "  (gender): Sequential(\n",
       "    (0): Linear(in_features=256, out_features=1, bias=True)\n",
       "    (1): Sigmoid()\n",
       "  )\n",
       "  (race): Sequential(\n",
       "    (0): Linear(in_features=1024, out_features=5, bias=True)\n",
       "    (1): Softmax(dim=1)\n",
       "  )\n",
       ")"
      ]
     },
     "execution_count": 157,
     "metadata": {},
     "output_type": "execute_result"
    }
   ],
   "source": [
    "model = MobileNetV1(3, 7)\n",
    "state_dict = model.state_dict()\n",
    "sd_keys = list(state_dict.keys())[:-8]\n",
    "load_model_backbone(model, state_dict, constant_values)\n",
    "model.load_state_dict(state_dict)\n",
    "sd_new = model.state_dict()\n",
    "sd_new['fc.1.weight']     = torch.from_numpy(np.transpose(constant_values['feats/kernel']))\n",
    "sd_new['fc.1.bias']       = torch.from_numpy(constant_values['feats/bias'])\n",
    "sd_new['age.0.weight']    = torch.from_numpy(np.transpose(constant_values['age_pred/kernel']))\n",
    "sd_new['age.0.bias']      = torch.from_numpy(constant_values['age_pred/bias'])\n",
    "sd_new['gender.0.weight'] = torch.from_numpy(np.transpose(constant_values['gender_pred/kernel']))\n",
    "sd_new['gender.0.bias']   = torch.from_numpy(constant_values['gender_pred/bias'])\n",
    "sd_new['race.0.weight']   = torch.from_numpy(np.transpose(constant_values['ethnicity_pred/kernel']))\n",
    "sd_new['race.0.bias']     = torch.from_numpy(constant_values['ethnicity_pred/bias'])\n",
    "model.load_state_dict(sd_new)\n",
    "model.eval()"
   ]
  },
  {
   "cell_type": "code",
   "execution_count": 143,
   "metadata": {},
   "outputs": [
    {
     "data": {
      "text/plain": [
       "(256,)"
      ]
     },
     "execution_count": 143,
     "metadata": {},
     "output_type": "execute_result"
    }
   ],
   "source": [
    "constant_values['feats/bias'].shape"
   ]
  },
  {
   "cell_type": "code",
   "execution_count": 145,
   "metadata": {},
   "outputs": [
    {
     "data": {
      "text/plain": [
       "torch.Size([256])"
      ]
     },
     "execution_count": 145,
     "metadata": {},
     "output_type": "execute_result"
    }
   ],
   "source": [
    "model.fc[1].bias.shape"
   ]
  },
  {
   "cell_type": "code",
   "execution_count": 60,
   "metadata": {},
   "outputs": [],
   "source": [
    "x_tensor = torch.from_numpy(x).permute(0, 3, 1, 2).float()"
   ]
  },
  {
   "cell_type": "code",
   "execution_count": 61,
   "metadata": {},
   "outputs": [
    {
     "data": {
      "text/plain": [
       "dict_keys(['conv1_pad/Pad/paddings', 'conv1/kernel', 'conv1_bn/gamma', 'conv1_bn/beta', 'conv1_bn/moving_mean', 'conv1_bn/moving_variance', 'conv1_bn/moving_mean/biased', 'conv1_bn/moving_mean/local_step', 'conv1_bn/moving_variance/biased', 'conv1_bn/moving_variance/local_step', 'conv_dw_1/depthwise_kernel', 'conv_dw_1_bn/gamma', 'conv_dw_1_bn/beta', 'conv_dw_1_bn/moving_mean', 'conv_dw_1_bn/moving_variance', 'conv_dw_1_bn/moving_mean/biased', 'conv_dw_1_bn/moving_mean/local_step', 'conv_dw_1_bn/moving_variance/biased', 'conv_dw_1_bn/moving_variance/local_step', 'conv_pw_1/kernel', 'conv_pw_1_bn/gamma', 'conv_pw_1_bn/beta', 'conv_pw_1_bn/moving_mean', 'conv_pw_1_bn/moving_variance', 'conv_pw_1_bn/moving_mean/biased', 'conv_pw_1_bn/moving_mean/local_step', 'conv_pw_1_bn/moving_variance/biased', 'conv_pw_1_bn/moving_variance/local_step', 'conv_pad_2/Pad/paddings', 'conv_dw_2/depthwise_kernel', 'conv_dw_2_bn/gamma', 'conv_dw_2_bn/beta', 'conv_dw_2_bn/moving_mean', 'conv_dw_2_bn/moving_variance', 'conv_dw_2_bn/moving_mean/biased', 'conv_dw_2_bn/moving_mean/local_step', 'conv_dw_2_bn/moving_variance/biased', 'conv_dw_2_bn/moving_variance/local_step', 'conv_pw_2/kernel', 'conv_pw_2_bn/gamma', 'conv_pw_2_bn/beta', 'conv_pw_2_bn/moving_mean', 'conv_pw_2_bn/moving_variance', 'conv_pw_2_bn/moving_mean/biased', 'conv_pw_2_bn/moving_mean/local_step', 'conv_pw_2_bn/moving_variance/biased', 'conv_pw_2_bn/moving_variance/local_step', 'conv_dw_3/depthwise_kernel', 'conv_dw_3_bn/gamma', 'conv_dw_3_bn/beta', 'conv_dw_3_bn/moving_mean', 'conv_dw_3_bn/moving_variance', 'conv_dw_3_bn/moving_mean/biased', 'conv_dw_3_bn/moving_mean/local_step', 'conv_dw_3_bn/moving_variance/biased', 'conv_dw_3_bn/moving_variance/local_step', 'conv_pw_3/kernel', 'conv_pw_3_bn/gamma', 'conv_pw_3_bn/beta', 'conv_pw_3_bn/moving_mean', 'conv_pw_3_bn/moving_variance', 'conv_pw_3_bn/moving_mean/biased', 'conv_pw_3_bn/moving_mean/local_step', 'conv_pw_3_bn/moving_variance/biased', 'conv_pw_3_bn/moving_variance/local_step', 'conv_pad_4/Pad/paddings', 'conv_dw_4/depthwise_kernel', 'conv_dw_4_bn/gamma', 'conv_dw_4_bn/beta', 'conv_dw_4_bn/moving_mean', 'conv_dw_4_bn/moving_variance', 'conv_dw_4_bn/moving_mean/biased', 'conv_dw_4_bn/moving_mean/local_step', 'conv_dw_4_bn/moving_variance/biased', 'conv_dw_4_bn/moving_variance/local_step', 'conv_pw_4/kernel', 'conv_pw_4_bn/gamma', 'conv_pw_4_bn/beta', 'conv_pw_4_bn/moving_mean', 'conv_pw_4_bn/moving_variance', 'conv_pw_4_bn/moving_mean/biased', 'conv_pw_4_bn/moving_mean/local_step', 'conv_pw_4_bn/moving_variance/biased', 'conv_pw_4_bn/moving_variance/local_step', 'conv_dw_5/depthwise_kernel', 'conv_dw_5_bn/gamma', 'conv_dw_5_bn/beta', 'conv_dw_5_bn/moving_mean', 'conv_dw_5_bn/moving_variance', 'conv_dw_5_bn/moving_mean/biased', 'conv_dw_5_bn/moving_mean/local_step', 'conv_dw_5_bn/moving_variance/biased', 'conv_dw_5_bn/moving_variance/local_step', 'conv_pw_5/kernel', 'conv_pw_5_bn/gamma', 'conv_pw_5_bn/beta', 'conv_pw_5_bn/moving_mean', 'conv_pw_5_bn/moving_variance', 'conv_pw_5_bn/moving_mean/biased', 'conv_pw_5_bn/moving_mean/local_step', 'conv_pw_5_bn/moving_variance/biased', 'conv_pw_5_bn/moving_variance/local_step', 'conv_pad_6/Pad/paddings', 'conv_dw_6/depthwise_kernel', 'conv_dw_6_bn/gamma', 'conv_dw_6_bn/beta', 'conv_dw_6_bn/moving_mean', 'conv_dw_6_bn/moving_variance', 'conv_dw_6_bn/moving_mean/biased', 'conv_dw_6_bn/moving_mean/local_step', 'conv_dw_6_bn/moving_variance/biased', 'conv_dw_6_bn/moving_variance/local_step', 'conv_pw_6/kernel', 'conv_pw_6_bn/gamma', 'conv_pw_6_bn/beta', 'conv_pw_6_bn/moving_mean', 'conv_pw_6_bn/moving_variance', 'conv_pw_6_bn/moving_mean/biased', 'conv_pw_6_bn/moving_mean/local_step', 'conv_pw_6_bn/moving_variance/biased', 'conv_pw_6_bn/moving_variance/local_step', 'conv_dw_7/depthwise_kernel', 'conv_dw_7_bn/gamma', 'conv_dw_7_bn/beta', 'conv_dw_7_bn/moving_mean', 'conv_dw_7_bn/moving_variance', 'conv_dw_7_bn/moving_mean/biased', 'conv_dw_7_bn/moving_mean/local_step', 'conv_dw_7_bn/moving_variance/biased', 'conv_dw_7_bn/moving_variance/local_step', 'conv_pw_7/kernel', 'conv_pw_7_bn/gamma', 'conv_pw_7_bn/beta', 'conv_pw_7_bn/moving_mean', 'conv_pw_7_bn/moving_variance', 'conv_pw_7_bn/moving_mean/biased', 'conv_pw_7_bn/moving_mean/local_step', 'conv_pw_7_bn/moving_variance/biased', 'conv_pw_7_bn/moving_variance/local_step', 'conv_dw_8/depthwise_kernel', 'conv_dw_8_bn/gamma', 'conv_dw_8_bn/beta', 'conv_dw_8_bn/moving_mean', 'conv_dw_8_bn/moving_variance', 'conv_dw_8_bn/moving_mean/biased', 'conv_dw_8_bn/moving_mean/local_step', 'conv_dw_8_bn/moving_variance/biased', 'conv_dw_8_bn/moving_variance/local_step', 'conv_pw_8/kernel', 'conv_pw_8_bn/gamma', 'conv_pw_8_bn/beta', 'conv_pw_8_bn/moving_mean', 'conv_pw_8_bn/moving_variance', 'conv_pw_8_bn/moving_mean/biased', 'conv_pw_8_bn/moving_mean/local_step', 'conv_pw_8_bn/moving_variance/biased', 'conv_pw_8_bn/moving_variance/local_step', 'conv_dw_9/depthwise_kernel', 'conv_dw_9_bn/gamma', 'conv_dw_9_bn/beta', 'conv_dw_9_bn/moving_mean', 'conv_dw_9_bn/moving_variance', 'conv_dw_9_bn/moving_mean/biased', 'conv_dw_9_bn/moving_mean/local_step', 'conv_dw_9_bn/moving_variance/biased', 'conv_dw_9_bn/moving_variance/local_step', 'conv_pw_9/kernel', 'conv_pw_9_bn/gamma', 'conv_pw_9_bn/beta', 'conv_pw_9_bn/moving_mean', 'conv_pw_9_bn/moving_variance', 'conv_pw_9_bn/moving_mean/biased', 'conv_pw_9_bn/moving_mean/local_step', 'conv_pw_9_bn/moving_variance/biased', 'conv_pw_9_bn/moving_variance/local_step', 'conv_dw_10/depthwise_kernel', 'conv_dw_10_bn/gamma', 'conv_dw_10_bn/beta', 'conv_dw_10_bn/moving_mean', 'conv_dw_10_bn/moving_variance', 'conv_dw_10_bn/moving_mean/biased', 'conv_dw_10_bn/moving_mean/local_step', 'conv_dw_10_bn/moving_variance/biased', 'conv_dw_10_bn/moving_variance/local_step', 'conv_pw_10/kernel', 'conv_pw_10_bn/gamma', 'conv_pw_10_bn/beta', 'conv_pw_10_bn/moving_mean', 'conv_pw_10_bn/moving_variance', 'conv_pw_10_bn/moving_mean/biased', 'conv_pw_10_bn/moving_mean/local_step', 'conv_pw_10_bn/moving_variance/biased', 'conv_pw_10_bn/moving_variance/local_step', 'conv_dw_11/depthwise_kernel', 'conv_dw_11_bn/gamma', 'conv_dw_11_bn/beta', 'conv_dw_11_bn/moving_mean', 'conv_dw_11_bn/moving_variance', 'conv_dw_11_bn/moving_mean/biased', 'conv_dw_11_bn/moving_mean/local_step', 'conv_dw_11_bn/moving_variance/biased', 'conv_dw_11_bn/moving_variance/local_step', 'conv_pw_11/kernel', 'conv_pw_11_bn/gamma', 'conv_pw_11_bn/beta', 'conv_pw_11_bn/moving_mean', 'conv_pw_11_bn/moving_variance', 'conv_pw_11_bn/moving_mean/biased', 'conv_pw_11_bn/moving_mean/local_step', 'conv_pw_11_bn/moving_variance/biased', 'conv_pw_11_bn/moving_variance/local_step', 'conv_pad_12/Pad/paddings', 'conv_dw_12/depthwise_kernel', 'conv_dw_12_bn/gamma', 'conv_dw_12_bn/beta', 'conv_dw_12_bn/moving_mean', 'conv_dw_12_bn/moving_variance', 'conv_dw_12_bn/moving_mean/biased', 'conv_dw_12_bn/moving_mean/local_step', 'conv_dw_12_bn/moving_variance/biased', 'conv_dw_12_bn/moving_variance/local_step', 'conv_pw_12/kernel', 'conv_pw_12_bn/gamma', 'conv_pw_12_bn/beta', 'conv_pw_12_bn/moving_mean', 'conv_pw_12_bn/moving_variance', 'conv_pw_12_bn/moving_mean/biased', 'conv_pw_12_bn/moving_mean/local_step', 'conv_pw_12_bn/moving_variance/biased', 'conv_pw_12_bn/moving_variance/local_step', 'conv_dw_13/depthwise_kernel', 'conv_dw_13_bn/gamma', 'conv_dw_13_bn/beta', 'conv_dw_13_bn/moving_mean', 'conv_dw_13_bn/moving_variance', 'conv_dw_13_bn/moving_mean/biased', 'conv_dw_13_bn/moving_mean/local_step', 'conv_dw_13_bn/moving_variance/biased', 'conv_dw_13_bn/moving_variance/local_step', 'conv_pw_13/kernel', 'conv_pw_13_bn/gamma', 'conv_pw_13_bn/beta', 'conv_pw_13_bn/moving_mean', 'conv_pw_13_bn/moving_variance', 'conv_pw_13_bn/moving_mean/biased', 'conv_pw_13_bn/moving_mean/local_step', 'conv_pw_13_bn/moving_variance/biased', 'conv_pw_13_bn/moving_variance/local_step', 'global_pooling/Mean/reduction_indices', 'feats/kernel', 'feats/bias', 'age_pred/kernel', 'age_pred/bias', 'gender_pred/kernel', 'gender_pred/bias', 'ethnicity_pred/kernel', 'ethnicity_pred/bias'])"
      ]
     },
     "execution_count": 61,
     "metadata": {},
     "output_type": "execute_result"
    }
   ],
   "source": [
    "constant_values.keys()"
   ]
  },
  {
   "cell_type": "code",
   "execution_count": 107,
   "metadata": {},
   "outputs": [
    {
     "name": "stdout",
     "output_type": "stream",
     "text": [
      "torch.Size([1, 3, 225, 225])\n",
      "torch.Size([1, 32, 112, 112])\n",
      "torch.Size([1, 32, 112, 112])\n",
      "torch.Size([1, 32, 112, 112])\n",
      "torch.Size([1, 32, 114, 114])\n",
      "torch.Size([1, 32, 112, 112])\n",
      "torch.Size([1, 32, 112, 112])\n",
      "torch.Size([1, 32, 112, 112])\n",
      "torch.Size([1, 64, 112, 112])\n",
      "torch.Size([1, 64, 112, 112])\n",
      "torch.Size([1, 64, 112, 112])\n",
      "torch.Size([1, 64, 113, 113])\n",
      "torch.Size([1, 64, 56, 56])\n",
      "EQUAL\n"
     ]
    }
   ],
   "source": [
    "f1_tf = get_layer('conv_dw_2/depthwise:0')\n",
    "model = model.eval()\n",
    "with torch.no_grad():\n",
    "    jj = 2\n",
    "    ii = 1\n",
    "    f1_pt = x_tensor\n",
    "    for j in range(jj + 1):\n",
    "        for i in range(len(model.model[j]) if j < jj else ii + 1):\n",
    "            f1_pt = model.model[j][i](f1_pt)\n",
    "            print(f1_pt.shape)\n",
    "    t = np.allclose(\n",
    "        f1_pt.numpy(), \n",
    "        np.transpose(f1_tf, (0, 3, 1, 2)),\n",
    "        rtol=0, \n",
    "        atol=1e-3\n",
    "    )\n",
    "    if not t:\n",
    "        print('ERROR')\n",
    "    else:\n",
    "        print('EQUAL')"
   ]
  },
  {
   "cell_type": "code",
   "execution_count": 94,
   "metadata": {},
   "outputs": [
    {
     "data": {
      "text/plain": [
       "Conv2d(64, 64, kernel_size=(3, 3), stride=(2, 2), padding=(1, 1), groups=64, bias=False)"
      ]
     },
     "execution_count": 94,
     "metadata": {},
     "output_type": "execute_result"
    }
   ],
   "source": [
    "model.model[jj][ii]#.training"
   ]
  },
  {
   "cell_type": "code",
   "execution_count": 54,
   "metadata": {},
   "outputs": [
    {
     "data": {
      "text/plain": [
       "True"
      ]
     },
     "execution_count": 54,
     "metadata": {},
     "output_type": "execute_result"
    }
   ],
   "source": [
    "np.allclose(f1_pt.numpy(), np.transpose(f1_tf, (0, 3, 1, 2)), rtol=0, atol=1e-6)"
   ]
  },
  {
   "cell_type": "code",
   "execution_count": 105,
   "metadata": {},
   "outputs": [
    {
     "data": {
      "text/plain": [
       "array([[[[-4.69197303e-01, -4.19004774e+00, -2.99021244e+00, ...,\n",
       "          -4.14173088e+01, -9.72289562e+00, -4.47562456e+00],\n",
       "         [ 0.00000000e+00, -4.45627403e+00, -8.65003014e+00, ...,\n",
       "          -3.83823776e+01, -2.18846111e+01,  0.00000000e+00],\n",
       "         [-1.94530821e+00, -1.76159871e+00, -3.08182240e+00, ...,\n",
       "          -2.31840973e+01, -3.61757317e+01, -7.18732452e+00],\n",
       "         ...,\n",
       "         [-3.50750709e+00, -1.38862028e+01, -1.38362713e+01, ...,\n",
       "          -1.58023643e+00, -1.01443839e+00, -8.83172393e-01],\n",
       "         [-2.56322384e+01, -1.93676567e+01, -1.13890524e+01, ...,\n",
       "          -2.15329337e+00, -9.83235240e-01, -2.08148861e+00],\n",
       "         [-1.03327265e+01, -3.81133842e+01, -1.33302546e+01, ...,\n",
       "          -9.58585203e-01, -9.91503358e-01,  0.00000000e+00]],\n",
       "\n",
       "        [[-2.92701721e+01, -2.65249634e+01, -2.60478077e+01, ...,\n",
       "          -2.61965237e+01, -2.61496181e+01, -2.22151489e+01],\n",
       "         [-2.65257416e+01, -2.42798977e+01, -2.37607441e+01, ...,\n",
       "          -2.36768036e+01, -2.33744698e+01, -2.05820503e+01],\n",
       "         [-2.64601917e+01, -2.42331009e+01, -2.36225929e+01, ...,\n",
       "          -2.39693279e+01, -2.36098690e+01, -2.06421127e+01],\n",
       "         ...,\n",
       "         [-2.53226948e+01, -2.24988003e+01, -2.23405285e+01, ...,\n",
       "          -9.32804680e+00, -9.52244759e+00, -9.82599831e+00],\n",
       "         [-2.10686035e+01, -2.09012375e+01, -2.20989017e+01, ...,\n",
       "          -1.01275930e+01, -9.70293522e+00, -9.71628284e+00],\n",
       "         [-1.71892452e+01, -1.82023106e+01, -1.95049667e+01, ...,\n",
       "          -1.31787128e+01, -1.26736231e+01, -1.09646988e+01]],\n",
       "\n",
       "        [[-7.99574137e+00, -1.00108652e+01, -1.24060450e+01, ...,\n",
       "          -1.95854931e+01, -1.87958393e+01, -4.97260332e+00],\n",
       "         [-9.14572239e+00, -1.56852789e+01, -1.87423992e+01, ...,\n",
       "          -2.48572979e+01, -2.60399017e+01, -9.51002979e+00],\n",
       "         [-7.82008362e+00, -1.55439377e+01, -1.99258556e+01, ...,\n",
       "          -2.18867188e+01, -2.45601826e+01, -9.87323093e+00],\n",
       "         ...,\n",
       "         [-1.82154713e+01, -2.62856541e+01, -2.39163189e+01, ...,\n",
       "           0.00000000e+00,  0.00000000e+00,  0.00000000e+00],\n",
       "         [-6.50543499e+00, -2.46088200e+01, -2.56311932e+01, ...,\n",
       "           0.00000000e+00,  0.00000000e+00,  0.00000000e+00],\n",
       "         [ 0.00000000e+00, -2.92374372e+00, -7.48460197e+00, ...,\n",
       "           0.00000000e+00,  0.00000000e+00,  0.00000000e+00]],\n",
       "\n",
       "        ...,\n",
       "\n",
       "        [[-1.29252088e+00, -5.44985414e-01, -5.72079904e-02, ...,\n",
       "          -6.58878422e+00,  1.86879563e+00, -6.27038717e+00],\n",
       "         [-2.14434028e+00, -1.12272441e+00, -1.93052089e+00, ...,\n",
       "           1.73627317e+00, -5.83338308e+00, -1.59951672e-01],\n",
       "         [-5.04330397e+00, -2.47324729e+00, -1.64373243e+00, ...,\n",
       "          -1.28750861e+00, -2.28698874e+00, -1.59778535e-01],\n",
       "         ...,\n",
       "         [-1.57725883e+00, -1.76057875e+00, -1.71040571e+00, ...,\n",
       "          -2.31207538e+00, -2.43021059e+00, -2.12055492e+00],\n",
       "         [-9.58839798e+00, -1.53716445e+00, -2.44154072e+00, ...,\n",
       "          -1.67627895e+00, -1.92926395e+00, -3.12093472e+00],\n",
       "         [ 2.22086120e+00, -3.90777802e+00, -2.09029984e+00, ...,\n",
       "           8.32364976e-01,  7.44212568e-01, -2.01685500e+00]],\n",
       "\n",
       "        [[ 1.98481770e+01,  7.86443770e-01,  1.69257236e+00, ...,\n",
       "           4.22152138e+01,  7.60532379e+00,  1.83312798e+01],\n",
       "         [ 1.80491467e+01,  2.99687696e+00,  3.18715382e+00, ...,\n",
       "           3.07860031e+01,  1.74221935e+01,  1.34721441e+01],\n",
       "         [ 2.04157677e+01,  1.20038223e+00,  5.18500137e+00, ...,\n",
       "           1.16453428e+01,  1.98908978e+01,  1.03948956e+01],\n",
       "         ...,\n",
       "         [ 2.37141895e+01,  6.88760519e+00,  7.14412022e+00, ...,\n",
       "           4.79638249e-01,  3.48307699e-01,  5.86628735e-01],\n",
       "         [ 5.17525177e+01,  1.69118481e+01,  1.02467375e+01, ...,\n",
       "           1.44572186e+00,  1.81981623e+00,  1.21364284e+00],\n",
       "         [ 5.11201248e+01,  4.18764114e+01,  1.68750343e+01, ...,\n",
       "           1.50301075e+00,  1.30024946e+00,  0.00000000e+00]],\n",
       "\n",
       "        [[ 2.10532236e+00,  1.81890815e-01,  1.09006405e-01, ...,\n",
       "           1.69222012e-01,  1.59634307e-01,  1.43542194e+01],\n",
       "         [ 2.04650021e+00,  2.47471005e-01, -8.16678703e-02, ...,\n",
       "          -4.19974066e-02,  2.33039171e-01,  1.41851702e+01],\n",
       "         [ 1.86355960e+00,  3.01446408e-01,  9.46164578e-02, ...,\n",
       "           4.08426337e-02,  5.93198277e-02,  1.43663273e+01],\n",
       "         ...,\n",
       "         [ 1.40285194e+00, -3.45674008e-01, -2.05367774e-01, ...,\n",
       "          -1.97796538e-01, -4.13980275e-01,  2.41053925e+01],\n",
       "         [ 1.86971593e+00,  2.06779480e-01, -3.51425052e-01, ...,\n",
       "          -1.20973930e-01, -4.63052392e-01,  2.38233871e+01],\n",
       "         [ 4.97531557e+00,  4.52160883e+00,  2.57672668e+00, ...,\n",
       "           3.36690545e+00,  3.32525802e+00,  2.54897690e+01]]]],\n",
       "      dtype=float32)"
      ]
     },
     "execution_count": 105,
     "metadata": {},
     "output_type": "execute_result"
    }
   ],
   "source": [
    "f1_pt.numpy()"
   ]
  },
  {
   "cell_type": "code",
   "execution_count": 106,
   "metadata": {},
   "outputs": [
    {
     "data": {
      "text/plain": [
       "array([[[[-4.6919739e-01, -4.1900697e+00, -2.9902081e+00, ...,\n",
       "          -4.1417309e+01, -9.7228985e+00, -4.4756184e+00],\n",
       "         [ 0.0000000e+00, -4.4562550e+00, -8.6500664e+00, ...,\n",
       "          -3.8382397e+01, -2.1884626e+01,  0.0000000e+00],\n",
       "         [-1.9453217e+00, -1.7616110e+00, -3.0818253e+00, ...,\n",
       "          -2.3184137e+01, -3.6175713e+01, -7.1873274e+00],\n",
       "         ...,\n",
       "         [-3.5075128e+00, -1.3886192e+01, -1.3836237e+01, ...,\n",
       "          -1.5802236e+00, -1.0144274e+00, -8.8317722e-01],\n",
       "         [-2.5632265e+01, -1.9367691e+01, -1.1389025e+01, ...,\n",
       "          -2.1533000e+00, -9.8324615e-01, -2.0815136e+00],\n",
       "         [-1.0332725e+01, -3.8113403e+01, -1.3330258e+01, ...,\n",
       "          -9.5858854e-01, -9.9151397e-01,  0.0000000e+00]],\n",
       "\n",
       "        [[-2.9270166e+01, -2.6524956e+01, -2.6047808e+01, ...,\n",
       "          -2.6196518e+01, -2.6149616e+01, -2.2215147e+01],\n",
       "         [-2.6525738e+01, -2.4279896e+01, -2.3760742e+01, ...,\n",
       "          -2.3676804e+01, -2.3374460e+01, -2.0582050e+01],\n",
       "         [-2.6460190e+01, -2.4233097e+01, -2.3622585e+01, ...,\n",
       "          -2.3969322e+01, -2.3609865e+01, -2.0642109e+01],\n",
       "         ...,\n",
       "         [-2.5322689e+01, -2.2498796e+01, -2.2340523e+01, ...,\n",
       "          -9.3280478e+00, -9.5224476e+00, -9.8260002e+00],\n",
       "         [-2.1068600e+01, -2.0901234e+01, -2.2098906e+01, ...,\n",
       "          -1.0127594e+01, -9.7029362e+00, -9.7162828e+00],\n",
       "         [-1.7189243e+01, -1.8202309e+01, -1.9504967e+01, ...,\n",
       "          -1.3178712e+01, -1.2673624e+01, -1.0964699e+01]],\n",
       "\n",
       "        [[-7.9957709e+00, -1.0010883e+01, -1.2406072e+01, ...,\n",
       "          -1.9585505e+01, -1.8795843e+01, -4.9726110e+00],\n",
       "         [-9.1457405e+00, -1.5685292e+01, -1.8742422e+01, ...,\n",
       "          -2.4857302e+01, -2.6039923e+01, -9.5100403e+00],\n",
       "         [-7.8200998e+00, -1.5543948e+01, -1.9925875e+01, ...,\n",
       "          -2.1886742e+01, -2.4560200e+01, -9.8732367e+00],\n",
       "         ...,\n",
       "         [-1.8215483e+01, -2.6285660e+01, -2.3916334e+01, ...,\n",
       "           0.0000000e+00,  0.0000000e+00,  0.0000000e+00],\n",
       "         [-6.5054493e+00, -2.4608831e+01, -2.5631201e+01, ...,\n",
       "           0.0000000e+00,  0.0000000e+00,  0.0000000e+00],\n",
       "         [ 0.0000000e+00, -2.9237442e+00, -7.4846053e+00, ...,\n",
       "           0.0000000e+00,  0.0000000e+00,  0.0000000e+00]],\n",
       "\n",
       "        ...,\n",
       "\n",
       "        [[-1.2925202e+00, -5.4498619e-01, -5.7203546e-02, ...,\n",
       "          -6.5887823e+00,  1.8687909e+00, -6.2703843e+00],\n",
       "         [-2.1443424e+00, -1.1227261e+00, -1.9305205e+00, ...,\n",
       "           1.7362641e+00, -5.8333907e+00, -1.5995142e-01],\n",
       "         [-5.0433111e+00, -2.4732463e+00, -1.6437320e+00, ...,\n",
       "          -1.2875158e+00, -2.2869880e+00, -1.5978357e-01],\n",
       "         ...,\n",
       "         [-1.5772581e+00, -1.7605762e+00, -1.7103988e+00, ...,\n",
       "          -2.3120856e+00, -2.4302094e+00, -2.1205568e+00],\n",
       "         [-9.5883980e+00, -1.5371671e+00, -2.4415390e+00, ...,\n",
       "          -1.6762774e+00, -1.9292697e+00, -3.1209323e+00],\n",
       "         [ 2.2208543e+00, -3.9077785e+00, -2.0902958e+00, ...,\n",
       "           8.3236295e-01,  7.4421066e-01, -2.0168552e+00]],\n",
       "\n",
       "        [[ 1.9848179e+01,  7.8644419e-01,  1.6925716e+00, ...,\n",
       "           4.2215191e+01,  7.6053185e+00,  1.8331280e+01],\n",
       "         [ 1.8049149e+01,  2.9968665e+00,  3.1871767e+00, ...,\n",
       "           3.0785988e+01,  1.7422190e+01,  1.3472136e+01],\n",
       "         [ 2.0415764e+01,  1.2003918e+00,  5.1850162e+00, ...,\n",
       "           1.1645335e+01,  1.9890894e+01,  1.0394890e+01],\n",
       "         ...,\n",
       "         [ 2.3714188e+01,  6.8875942e+00,  7.1441011e+00, ...,\n",
       "           4.7964284e-01,  3.4830666e-01,  5.8662701e-01],\n",
       "         [ 5.1752529e+01,  1.6911865e+01,  1.0246732e+01, ...,\n",
       "           1.4457238e+00,  1.8198165e+00,  1.2136385e+00],\n",
       "         [ 5.1120129e+01,  4.1876392e+01,  1.6875038e+01, ...,\n",
       "           1.5030216e+00,  1.3002621e+00,  0.0000000e+00]],\n",
       "\n",
       "        [[ 2.1053207e+00,  1.8189156e-01,  1.0900773e-01, ...,\n",
       "           1.6922358e-01,  1.5963171e-01,  1.4354218e+01],\n",
       "         [ 2.0464985e+00,  2.4747233e-01, -8.1667736e-02, ...,\n",
       "          -4.1996215e-02,  2.3304002e-01,  1.4185168e+01],\n",
       "         [ 1.8635598e+00,  3.0145070e-01,  9.4612777e-02, ...,\n",
       "           4.0843859e-02,  5.9320919e-02,  1.4366323e+01],\n",
       "         ...,\n",
       "         [ 1.4028515e+00, -3.4567386e-01, -2.0536764e-01, ...,\n",
       "          -1.9779569e-01, -4.1398171e-01,  2.4105391e+01],\n",
       "         [ 1.8697151e+00,  2.0677890e-01, -3.5142168e-01, ...,\n",
       "          -1.2097581e-01, -4.6305478e-01,  2.3823385e+01],\n",
       "         [ 4.9753146e+00,  4.5216088e+00,  2.5767276e+00, ...,\n",
       "           3.3669035e+00,  3.3252571e+00,  2.5489769e+01]]]],\n",
       "      dtype=float32)"
      ]
     },
     "execution_count": 106,
     "metadata": {},
     "output_type": "execute_result"
    }
   ],
   "source": [
    "np.transpose(f1_tf, (0, 3, 1, 2))"
   ]
  },
  {
   "cell_type": "code",
   "execution_count": 36,
   "metadata": {},
   "outputs": [
    {
     "data": {
      "text/plain": [
       "array([[[[ 0.00000000e+00,  3.46460985e-03,  1.18973923e+00, ...,\n",
       "          -1.70606792e+00,  2.94960767e-01,  4.65372950e-01],\n",
       "         [ 0.00000000e+00,  1.11057386e-01,  9.13528085e-01, ...,\n",
       "          -1.12143290e+00, -1.05854440e+00, -1.12338027e-03],\n",
       "         [ 0.00000000e+00,  1.05382450e-01,  9.27623808e-01, ...,\n",
       "          -1.12258232e+00, -7.29063094e-01, -7.53029808e-02],\n",
       "         ...,\n",
       "         [ 0.00000000e+00,  1.05851233e-01,  9.25442338e-01, ...,\n",
       "          -1.11579859e+00, -7.29926705e-01, -7.81948864e-02],\n",
       "         [ 0.00000000e+00,  1.20268419e-01,  9.38564062e-01, ...,\n",
       "          -1.11409938e+00, -7.19701111e-01, -9.41056013e-02],\n",
       "         [ 0.00000000e+00,  1.24741822e-01,  4.72871274e-01, ...,\n",
       "          -9.58056688e-01, -5.03755212e-01, -7.70508170e-01]],\n",
       "\n",
       "        [[ 0.00000000e+00,  2.74902750e-02,  1.47244239e+00, ...,\n",
       "          -1.02367294e+00,  5.78671873e-01,  3.13187271e-01],\n",
       "         [ 0.00000000e+00,  2.20121872e-02,  9.41969931e-01, ...,\n",
       "          -9.17371035e-01, -1.27302492e+00,  1.34374529e-01],\n",
       "         [ 0.00000000e+00,  1.81790292e-02,  9.37881708e-01, ...,\n",
       "          -9.18376386e-01, -1.10940421e+00,  1.28672078e-01],\n",
       "         ...,\n",
       "         [ 0.00000000e+00,  2.46873163e-02,  9.38013673e-01, ...,\n",
       "          -9.12681341e-01, -1.15269494e+00,  1.82771802e-01],\n",
       "         [ 0.00000000e+00,  3.80390026e-02,  9.16172147e-01, ...,\n",
       "          -9.16188717e-01, -1.20885551e+00,  9.58776474e-02],\n",
       "         [ 0.00000000e+00, -7.21103102e-02, -6.42987117e-02, ...,\n",
       "          -1.33653915e+00, -1.35096991e+00, -3.73273730e-01]],\n",
       "\n",
       "        [[ 0.00000000e+00,  1.40234316e-02,  1.45316160e+00, ...,\n",
       "          -1.02318239e+00, -1.38094172e-01,  3.28629404e-01],\n",
       "         [ 0.00000000e+00,  3.27425264e-02,  9.32749212e-01, ...,\n",
       "          -9.16207254e-01, -1.23954535e+00,  8.69650245e-02],\n",
       "         [ 0.00000000e+00,  2.45812312e-02,  9.24710631e-01, ...,\n",
       "          -9.19447422e-01, -1.13084400e+00,  6.46313056e-02],\n",
       "         ...,\n",
       "         [ 0.00000000e+00,  2.95447949e-02,  9.41409588e-01, ...,\n",
       "          -9.18094695e-01, -1.02035582e+00,  8.82803947e-02],\n",
       "         [ 0.00000000e+00,  2.58154329e-02,  9.27823007e-01, ...,\n",
       "          -9.15923238e-01, -1.13258803e+00,  1.12144396e-01],\n",
       "         [ 0.00000000e+00, -7.27483854e-02, -6.62185699e-02, ...,\n",
       "          -1.33648217e+00, -1.41055620e+00, -3.12946081e-01]],\n",
       "\n",
       "        ...,\n",
       "\n",
       "        [[ 0.00000000e+00,  6.27952144e-02,  1.32757890e+00, ...,\n",
       "          -1.09852386e+00,  3.89182419e-01,  4.51783687e-01],\n",
       "         [ 0.00000000e+00,  9.40249860e-02,  9.33743477e-01, ...,\n",
       "          -9.64000702e-01, -1.05239844e+00, -1.42843649e-01],\n",
       "         [ 0.00000000e+00,  6.20271377e-02,  9.74429429e-01, ...,\n",
       "          -9.43279445e-01, -1.03056991e+00, -1.00676201e-01],\n",
       "         ...,\n",
       "         [ 0.00000000e+00,  6.95843399e-02,  1.10008192e+00, ...,\n",
       "          -1.06690419e+00, -1.09721887e+00,  5.33618517e-02],\n",
       "         [ 0.00000000e+00,  8.64958316e-02,  1.09782255e+00, ...,\n",
       "          -1.07938981e+00, -1.11353707e+00,  9.25369114e-02],\n",
       "         [ 0.00000000e+00, -2.65910357e-01, -4.47599441e-02, ...,\n",
       "          -1.54745018e+00, -1.35866487e+00, -1.45232663e-01]],\n",
       "\n",
       "        [[ 0.00000000e+00,  2.37147138e-02,  1.25520563e+00, ...,\n",
       "          -1.13003314e+00, -1.60392582e-01,  5.59237838e-01],\n",
       "         [ 0.00000000e+00,  1.15380116e-01,  7.62330472e-01, ...,\n",
       "          -9.88495409e-01, -1.15184116e+00,  4.04006131e-02],\n",
       "         [ 0.00000000e+00,  9.84884426e-02,  8.08568954e-01, ...,\n",
       "          -9.63728011e-01, -1.05830741e+00, -1.23441517e-01],\n",
       "         ...,\n",
       "         [ 0.00000000e+00,  7.87884966e-02,  1.22501314e+00, ...,\n",
       "          -1.05303752e+00, -1.14560068e+00,  3.09538115e-02],\n",
       "         [ 0.00000000e+00,  6.80968314e-02,  1.21215189e+00, ...,\n",
       "          -1.06890774e+00, -1.18106210e+00,  5.51695526e-02],\n",
       "         [ 0.00000000e+00, -3.16666394e-01,  2.70347521e-02, ...,\n",
       "          -1.53161848e+00, -1.36388946e+00, -2.37532467e-01]],\n",
       "\n",
       "        [[ 0.00000000e+00, -4.17197496e-02,  3.61168891e-01, ...,\n",
       "          -6.49487495e-01, -5.11404157e-01,  1.12781554e-01],\n",
       "         [ 0.00000000e+00, -5.64343669e-02, -7.89310560e-02, ...,\n",
       "          -6.26598954e-01, -1.40307796e+00,  2.82759666e-01],\n",
       "         [ 0.00000000e+00, -1.43259075e-02, -1.47762343e-01, ...,\n",
       "          -6.11405313e-01, -1.89215457e+00,  2.65868008e-01],\n",
       "         ...,\n",
       "         [ 0.00000000e+00,  3.67343193e-03, -2.42917091e-01, ...,\n",
       "          -6.44279063e-01, -8.28108370e-01,  4.19955626e-02],\n",
       "         [ 0.00000000e+00, -4.24988084e-02, -2.44431302e-01, ...,\n",
       "          -6.53893352e-01, -8.68521452e-01,  4.09054980e-02],\n",
       "         [ 0.00000000e+00, -6.48012400e-01, -9.12751317e-01, ...,\n",
       "          -9.34883714e-01, -1.18890989e+00, -1.20305434e-01]]]],\n",
       "      dtype=float32)"
      ]
     },
     "execution_count": 36,
     "metadata": {},
     "output_type": "execute_result"
    }
   ],
   "source": [
    "f1_np = f1_pt.permute(0, 2, 3, 1).numpy()\n",
    "f1_np"
   ]
  },
  {
   "cell_type": "code",
   "execution_count": 17,
   "metadata": {},
   "outputs": [
    {
     "data": {
      "text/plain": [
       "(1, 224, 224, 3)"
      ]
     },
     "execution_count": 17,
     "metadata": {},
     "output_type": "execute_result"
    }
   ],
   "source": [
    "x.shape"
   ]
  },
  {
   "cell_type": "code",
   "execution_count": 158,
   "metadata": {},
   "outputs": [],
   "source": [
    "with torch.no_grad():\n",
    "    y = model(x_tensor)"
   ]
  },
  {
   "cell_type": "code",
   "execution_count": 162,
   "metadata": {},
   "outputs": [
    {
     "data": {
      "text/plain": [
       "14"
      ]
     },
     "execution_count": 162,
     "metadata": {},
     "output_type": "execute_result"
    }
   ],
   "source": [
    "get_age(y[0].numpy())"
   ]
  },
  {
   "cell_type": "code",
   "execution_count": 160,
   "metadata": {},
   "outputs": [
    {
     "data": {
      "text/plain": [
       "(tensor([[2.9300e-02, 2.5816e-04, 2.2002e-04, 1.2720e-03, 9.9148e-02, 9.0066e-03,\n",
       "          1.5967e-02, 3.2498e-02, 3.1650e-02, 3.7275e-01, 3.4325e-02, 2.0501e-02,\n",
       "          1.8305e-02, 2.3174e-02, 1.4434e-02, 8.9328e-03, 6.0240e-02, 9.7695e-03,\n",
       "          7.1496e-03, 9.1742e-03, 1.0052e-02, 1.1716e-02, 9.7114e-03, 1.0830e-02,\n",
       "          7.9529e-03, 7.1245e-03, 7.8654e-03, 5.0926e-03, 7.0012e-03, 4.2080e-02,\n",
       "          5.6640e-03, 5.3062e-03, 4.5887e-03, 5.7502e-03, 3.5740e-03, 2.8284e-03,\n",
       "          3.5926e-03, 2.1025e-03, 2.7359e-03, 1.5336e-02, 2.5231e-03, 2.0922e-03,\n",
       "          1.1886e-03, 1.5709e-03, 1.4799e-03, 1.4977e-03, 1.1616e-03, 1.2737e-03,\n",
       "          7.8395e-04, 3.2415e-03, 7.6875e-04, 8.2468e-04, 6.2688e-04, 1.0098e-03,\n",
       "          5.9829e-04, 5.6284e-04, 4.9292e-04, 6.9037e-04, 2.8905e-04, 3.9989e-04,\n",
       "          5.2712e-04, 3.9842e-04, 4.0445e-04, 3.7703e-04, 7.3918e-04, 2.7997e-04,\n",
       "          1.7572e-04, 2.9022e-04, 2.5982e-04, 9.9037e-04, 1.9045e-04, 3.7280e-04,\n",
       "          1.5591e-04, 1.9562e-04, 1.6681e-04, 1.2652e-04, 9.7612e-05, 4.8937e-05,\n",
       "          1.8731e-04, 2.1248e-04, 1.0898e-04, 8.0685e-05, 8.1137e-05, 7.1353e-05,\n",
       "          3.6897e-05, 7.4517e-05, 1.1699e-04, 7.0092e-05, 1.0405e-04, 5.3379e-05,\n",
       "          6.3797e-05, 5.2683e-05, 6.4363e-05, 7.2493e-05, 1.0530e-04, 1.0099e-04,\n",
       "          1.2866e-04, 1.0403e-04, 1.2287e-04, 1.2834e-04]]),\n",
       " tensor([[0.5367]]),\n",
       " tensor([[0.9732, 0.0046, 0.0053, 0.0095, 0.0074]]))"
      ]
     },
     "execution_count": 160,
     "metadata": {},
     "output_type": "execute_result"
    }
   ],
   "source": [
    "y"
   ]
  },
  {
   "cell_type": "code",
   "execution_count": 126,
   "metadata": {},
   "outputs": [
    {
     "data": {
      "text/plain": [
       "tensor([0.0534, 0.0000, 0.6324,  ..., 0.2799, 0.0330, 0.0000])"
      ]
     },
     "execution_count": 126,
     "metadata": {},
     "output_type": "execute_result"
    }
   ],
   "source": [
    "y.squeeze()#.mean()"
   ]
  },
  {
   "cell_type": "code",
   "execution_count": 111,
   "metadata": {},
   "outputs": [],
   "source": [
    "torch.save(model.state_dict(), 'model_weights/backbone_state_dict.pth')"
   ]
  },
  {
   "cell_type": "code",
   "execution_count": 112,
   "metadata": {},
   "outputs": [
    {
     "data": {
      "text/plain": [
       "<All keys matched successfully>"
      ]
     },
     "execution_count": 112,
     "metadata": {},
     "output_type": "execute_result"
    }
   ],
   "source": [
    "model.load_state_dict(torch.load('model_weights/backbone_state_dict.pth'))"
   ]
  },
  {
   "cell_type": "code",
   "execution_count": 163,
   "metadata": {},
   "outputs": [],
   "source": [
    "torch.save(model.state_dict(), 'model_weights/agre.pth')"
   ]
  },
  {
   "cell_type": "code",
   "execution_count": 110,
   "metadata": {},
   "outputs": [
    {
     "data": {
      "text/plain": [
       "array([[0.05342963, 0.        , 0.6324378 , ..., 0.27987874, 0.03298753,\n",
       "        0.        ]], dtype=float32)"
      ]
     },
     "execution_count": 110,
     "metadata": {},
     "output_type": "execute_result"
    }
   ],
   "source": [
    "np.array(features)"
   ]
  },
  {
   "cell_type": "code",
   "execution_count": 22,
   "metadata": {},
   "outputs": [
    {
     "data": {
      "text/plain": [
       "['model.0.0.weight',\n",
       " 'model.0.1.weight',\n",
       " 'model.0.1.bias',\n",
       " 'model.0.1.running_mean',\n",
       " 'model.0.1.running_var',\n",
       " 'model.0.1.num_batches_tracked',\n",
       " 'model.1.0.weight',\n",
       " 'model.1.1.weight',\n",
       " 'model.1.1.bias',\n",
       " 'model.1.1.running_mean',\n",
       " 'model.1.1.running_var',\n",
       " 'model.1.1.num_batches_tracked',\n",
       " 'model.1.3.weight',\n",
       " 'model.1.4.weight',\n",
       " 'model.1.4.bias',\n",
       " 'model.1.4.running_mean',\n",
       " 'model.1.4.running_var',\n",
       " 'model.1.4.num_batches_tracked',\n",
       " 'model.2.0.weight',\n",
       " 'model.2.1.weight',\n",
       " 'model.2.1.bias',\n",
       " 'model.2.1.running_mean',\n",
       " 'model.2.1.running_var',\n",
       " 'model.2.1.num_batches_tracked',\n",
       " 'model.2.3.weight',\n",
       " 'model.2.4.weight',\n",
       " 'model.2.4.bias',\n",
       " 'model.2.4.running_mean',\n",
       " 'model.2.4.running_var',\n",
       " 'model.2.4.num_batches_tracked',\n",
       " 'model.3.0.weight',\n",
       " 'model.3.1.weight',\n",
       " 'model.3.1.bias',\n",
       " 'model.3.1.running_mean',\n",
       " 'model.3.1.running_var',\n",
       " 'model.3.1.num_batches_tracked',\n",
       " 'model.3.3.weight',\n",
       " 'model.3.4.weight',\n",
       " 'model.3.4.bias',\n",
       " 'model.3.4.running_mean',\n",
       " 'model.3.4.running_var',\n",
       " 'model.3.4.num_batches_tracked',\n",
       " 'model.4.0.weight',\n",
       " 'model.4.1.weight',\n",
       " 'model.4.1.bias',\n",
       " 'model.4.1.running_mean',\n",
       " 'model.4.1.running_var',\n",
       " 'model.4.1.num_batches_tracked',\n",
       " 'model.4.3.weight',\n",
       " 'model.4.4.weight',\n",
       " 'model.4.4.bias',\n",
       " 'model.4.4.running_mean',\n",
       " 'model.4.4.running_var',\n",
       " 'model.4.4.num_batches_tracked',\n",
       " 'model.5.0.weight',\n",
       " 'model.5.1.weight',\n",
       " 'model.5.1.bias',\n",
       " 'model.5.1.running_mean',\n",
       " 'model.5.1.running_var',\n",
       " 'model.5.1.num_batches_tracked',\n",
       " 'model.5.3.weight',\n",
       " 'model.5.4.weight',\n",
       " 'model.5.4.bias',\n",
       " 'model.5.4.running_mean',\n",
       " 'model.5.4.running_var',\n",
       " 'model.5.4.num_batches_tracked',\n",
       " 'model.6.0.weight',\n",
       " 'model.6.1.weight',\n",
       " 'model.6.1.bias',\n",
       " 'model.6.1.running_mean',\n",
       " 'model.6.1.running_var',\n",
       " 'model.6.1.num_batches_tracked',\n",
       " 'model.6.3.weight',\n",
       " 'model.6.4.weight',\n",
       " 'model.6.4.bias',\n",
       " 'model.6.4.running_mean',\n",
       " 'model.6.4.running_var',\n",
       " 'model.6.4.num_batches_tracked',\n",
       " 'model.7.0.weight',\n",
       " 'model.7.1.weight',\n",
       " 'model.7.1.bias',\n",
       " 'model.7.1.running_mean',\n",
       " 'model.7.1.running_var',\n",
       " 'model.7.1.num_batches_tracked',\n",
       " 'model.7.3.weight',\n",
       " 'model.7.4.weight',\n",
       " 'model.7.4.bias',\n",
       " 'model.7.4.running_mean',\n",
       " 'model.7.4.running_var',\n",
       " 'model.7.4.num_batches_tracked',\n",
       " 'model.8.0.weight',\n",
       " 'model.8.1.weight',\n",
       " 'model.8.1.bias',\n",
       " 'model.8.1.running_mean',\n",
       " 'model.8.1.running_var',\n",
       " 'model.8.1.num_batches_tracked',\n",
       " 'model.8.3.weight',\n",
       " 'model.8.4.weight',\n",
       " 'model.8.4.bias',\n",
       " 'model.8.4.running_mean',\n",
       " 'model.8.4.running_var',\n",
       " 'model.8.4.num_batches_tracked',\n",
       " 'model.9.0.weight',\n",
       " 'model.9.1.weight',\n",
       " 'model.9.1.bias',\n",
       " 'model.9.1.running_mean',\n",
       " 'model.9.1.running_var',\n",
       " 'model.9.1.num_batches_tracked',\n",
       " 'model.9.3.weight',\n",
       " 'model.9.4.weight',\n",
       " 'model.9.4.bias',\n",
       " 'model.9.4.running_mean',\n",
       " 'model.9.4.running_var',\n",
       " 'model.9.4.num_batches_tracked',\n",
       " 'model.10.0.weight',\n",
       " 'model.10.1.weight',\n",
       " 'model.10.1.bias',\n",
       " 'model.10.1.running_mean',\n",
       " 'model.10.1.running_var',\n",
       " 'model.10.1.num_batches_tracked',\n",
       " 'model.10.3.weight',\n",
       " 'model.10.4.weight',\n",
       " 'model.10.4.bias',\n",
       " 'model.10.4.running_mean',\n",
       " 'model.10.4.running_var',\n",
       " 'model.10.4.num_batches_tracked',\n",
       " 'model.11.0.weight',\n",
       " 'model.11.1.weight',\n",
       " 'model.11.1.bias',\n",
       " 'model.11.1.running_mean',\n",
       " 'model.11.1.running_var',\n",
       " 'model.11.1.num_batches_tracked',\n",
       " 'model.11.3.weight',\n",
       " 'model.11.4.weight',\n",
       " 'model.11.4.bias',\n",
       " 'model.11.4.running_mean',\n",
       " 'model.11.4.running_var',\n",
       " 'model.11.4.num_batches_tracked',\n",
       " 'model.12.0.weight',\n",
       " 'model.12.1.weight',\n",
       " 'model.12.1.bias',\n",
       " 'model.12.1.running_mean',\n",
       " 'model.12.1.running_var',\n",
       " 'model.12.1.num_batches_tracked',\n",
       " 'model.12.3.weight',\n",
       " 'model.12.4.weight',\n",
       " 'model.12.4.bias',\n",
       " 'model.12.4.running_mean',\n",
       " 'model.12.4.running_var',\n",
       " 'model.12.4.num_batches_tracked',\n",
       " 'model.13.0.weight',\n",
       " 'model.13.1.weight',\n",
       " 'model.13.1.bias',\n",
       " 'model.13.1.running_mean',\n",
       " 'model.13.1.running_var',\n",
       " 'model.13.1.num_batches_tracked',\n",
       " 'model.13.3.weight',\n",
       " 'model.13.4.weight',\n",
       " 'model.13.4.bias',\n",
       " 'model.13.4.running_mean',\n",
       " 'model.13.4.running_var',\n",
       " 'model.13.4.num_batches_tracked']"
      ]
     },
     "execution_count": 22,
     "metadata": {},
     "output_type": "execute_result"
    }
   ],
   "source": [
    "sd_keys"
   ]
  },
  {
   "cell_type": "code",
   "execution_count": null,
   "metadata": {},
   "outputs": [],
   "source": []
  }
 ],
 "metadata": {
  "kernelspec": {
   "display_name": "Python 3",
   "language": "python",
   "name": "python3"
  },
  "language_info": {
   "codemirror_mode": {
    "name": "ipython",
    "version": 3
   },
   "file_extension": ".py",
   "mimetype": "text/x-python",
   "name": "python",
   "nbconvert_exporter": "python",
   "pygments_lexer": "ipython3",
   "version": "3.12.2"
  }
 },
 "nbformat": 4,
 "nbformat_minor": 2
}
